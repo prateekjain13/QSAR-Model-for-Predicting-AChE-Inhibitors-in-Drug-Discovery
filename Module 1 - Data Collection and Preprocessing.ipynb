{
  "cells": [
    {
      "cell_type": "markdown",
      "metadata": {
        "id": "wSFbIMb87cHu"
      },
      "source": [
        "# **Module 1 - Data Collection and Preprocessing**\n"
      ]
    },
    {
      "cell_type": "markdown",
      "metadata": {
        "id": "3iQiERxumDor"
      },
      "source": [
        "## **ChEMBL Database**\n",
        "\n",
        "The [*ChEMBL Database*](https://www.ebi.ac.uk/chembl/) is a database that contains curated bioactivity data of more than 2 million compounds. It is compiled from more than 76,000 documents, 1.2 million assays and the data spans 13,000 targets and 1,800 cells and 33,000 indications.\n",
        "[Data as of April, 2024; ChEMBL version 26]."
      ]
    },
    {
      "cell_type": "markdown",
      "metadata": {
        "id": "iryGAwAIQ4yf"
      },
      "source": [
        "## **Installing libraries**"
      ]
    },
    {
      "cell_type": "markdown",
      "metadata": {
        "id": "toGT1U_B7F2i"
      },
      "source": [
        "Install the ChEMBL web service package so that we can retrieve bioactivity data from the ChEMBL Database."
      ]
    },
    {
      "cell_type": "code",
      "execution_count": 1,
      "metadata": {
        "colab": {
          "base_uri": "https://localhost:8080/",
          "height": 349
        },
        "id": "cJGExHQBfLh7",
        "outputId": "783c9cb5-c5d4-4545-a9d3-6c2a2f2b0e53"
      },
      "outputs": [
        {
          "name": "stdout",
          "output_type": "stream",
          "text": [
            "Requirement already satisfied: chembl_webresource_client in c:\\users\\880pr\\appdata\\local\\programs\\python\\python312\\lib\\site-packages (0.10.9)\n",
            "Requirement already satisfied: urllib3 in c:\\users\\880pr\\appdata\\local\\programs\\python\\python312\\lib\\site-packages (from chembl_webresource_client) (2.2.2)\n",
            "Requirement already satisfied: requests>=2.18.4 in c:\\users\\880pr\\appdata\\local\\programs\\python\\python312\\lib\\site-packages (from chembl_webresource_client) (2.32.3)\n",
            "Requirement already satisfied: requests-cache~=1.2 in c:\\users\\880pr\\appdata\\local\\programs\\python\\python312\\lib\\site-packages (from chembl_webresource_client) (1.2.1)\n",
            "Requirement already satisfied: easydict in c:\\users\\880pr\\appdata\\local\\programs\\python\\python312\\lib\\site-packages (from chembl_webresource_client) (1.13)\n",
            "Requirement already satisfied: charset-normalizer<4,>=2 in c:\\users\\880pr\\appdata\\local\\programs\\python\\python312\\lib\\site-packages (from requests>=2.18.4->chembl_webresource_client) (3.3.2)\n",
            "Requirement already satisfied: idna<4,>=2.5 in c:\\users\\880pr\\appdata\\local\\programs\\python\\python312\\lib\\site-packages (from requests>=2.18.4->chembl_webresource_client) (3.8)\n",
            "Requirement already satisfied: certifi>=2017.4.17 in c:\\users\\880pr\\appdata\\local\\programs\\python\\python312\\lib\\site-packages (from requests>=2.18.4->chembl_webresource_client) (2024.8.30)\n",
            "Requirement already satisfied: attrs>=21.2 in c:\\users\\880pr\\appdata\\local\\programs\\python\\python312\\lib\\site-packages (from requests-cache~=1.2->chembl_webresource_client) (24.2.0)\n",
            "Requirement already satisfied: cattrs>=22.2 in c:\\users\\880pr\\appdata\\local\\programs\\python\\python312\\lib\\site-packages (from requests-cache~=1.2->chembl_webresource_client) (24.1.2)\n",
            "Requirement already satisfied: platformdirs>=2.5 in c:\\users\\880pr\\appdata\\local\\programs\\python\\python312\\lib\\site-packages (from requests-cache~=1.2->chembl_webresource_client) (4.2.0)\n",
            "Requirement already satisfied: url-normalize>=1.4 in c:\\users\\880pr\\appdata\\local\\programs\\python\\python312\\lib\\site-packages (from requests-cache~=1.2->chembl_webresource_client) (1.4.3)\n",
            "Requirement already satisfied: six in c:\\users\\880pr\\appdata\\local\\programs\\python\\python312\\lib\\site-packages (from url-normalize>=1.4->requests-cache~=1.2->chembl_webresource_client) (1.16.0)\n"
          ]
        },
        {
          "name": "stderr",
          "output_type": "stream",
          "text": [
            "\n",
            "[notice] A new release of pip is available: 24.1.2 -> 24.2\n",
            "[notice] To update, run: python.exe -m pip install --upgrade pip\n"
          ]
        }
      ],
      "source": [
        "! pip install chembl_webresource_client"
      ]
    },
    {
      "cell_type": "markdown",
      "metadata": {
        "id": "J0kJjL8gb5nX"
      },
      "source": [
        "## **Importing libraries**"
      ]
    },
    {
      "cell_type": "code",
      "execution_count": 2,
      "metadata": {
        "id": "RXoCvMPPfNrv"
      },
      "outputs": [],
      "source": [
        "# Import necessary libraries\n",
        "import pandas as pd\n",
        "from chembl_webresource_client.new_client import new_client"
      ]
    },
    {
      "cell_type": "markdown",
      "metadata": {
        "id": "1FgUai1bfigC"
      },
      "source": [
        "## **Search for Target protein**"
      ]
    },
    {
      "cell_type": "markdown",
      "metadata": {
        "id": "7lBsDrD0gAqH"
      },
      "source": [
        "### **Target search for coronavirus**"
      ]
    },
    {
      "cell_type": "code",
      "execution_count": 3,
      "metadata": {
        "colab": {
          "base_uri": "https://localhost:8080/",
          "height": 145
        },
        "id": "Vxtp79so4ZjF",
        "outputId": "e90dde45-1c0d-4fd9-f693-cb6e6032e2cd"
      },
      "outputs": [
        {
          "data": {
            "text/html": [
              "<div>\n",
              "<style scoped>\n",
              "    .dataframe tbody tr th:only-of-type {\n",
              "        vertical-align: middle;\n",
              "    }\n",
              "\n",
              "    .dataframe tbody tr th {\n",
              "        vertical-align: top;\n",
              "    }\n",
              "\n",
              "    .dataframe thead th {\n",
              "        text-align: right;\n",
              "    }\n",
              "</style>\n",
              "<table border=\"1\" class=\"dataframe\">\n",
              "  <thead>\n",
              "    <tr style=\"text-align: right;\">\n",
              "      <th></th>\n",
              "      <th>cross_references</th>\n",
              "      <th>organism</th>\n",
              "      <th>pref_name</th>\n",
              "      <th>score</th>\n",
              "      <th>species_group_flag</th>\n",
              "      <th>target_chembl_id</th>\n",
              "      <th>target_components</th>\n",
              "      <th>target_type</th>\n",
              "      <th>tax_id</th>\n",
              "    </tr>\n",
              "  </thead>\n",
              "  <tbody>\n",
              "    <tr>\n",
              "      <th>0</th>\n",
              "      <td>[{'xref_id': 'P11511', 'xref_name': None, 'xre...</td>\n",
              "      <td>Homo sapiens</td>\n",
              "      <td>Cytochrome P450 19A1</td>\n",
              "      <td>20.0</td>\n",
              "      <td>False</td>\n",
              "      <td>CHEMBL1978</td>\n",
              "      <td>[{'accession': 'P11511', 'component_descriptio...</td>\n",
              "      <td>SINGLE PROTEIN</td>\n",
              "      <td>9606</td>\n",
              "    </tr>\n",
              "    <tr>\n",
              "      <th>1</th>\n",
              "      <td>[{'xref_id': 'P22443', 'xref_name': None, 'xre...</td>\n",
              "      <td>Rattus norvegicus</td>\n",
              "      <td>Cytochrome P450 19A1</td>\n",
              "      <td>20.0</td>\n",
              "      <td>False</td>\n",
              "      <td>CHEMBL3859</td>\n",
              "      <td>[{'accession': 'P22443', 'component_descriptio...</td>\n",
              "      <td>SINGLE PROTEIN</td>\n",
              "      <td>10116</td>\n",
              "    </tr>\n",
              "  </tbody>\n",
              "</table>\n",
              "</div>"
            ],
            "text/plain": [
              "                                    cross_references           organism  \\\n",
              "0  [{'xref_id': 'P11511', 'xref_name': None, 'xre...       Homo sapiens   \n",
              "1  [{'xref_id': 'P22443', 'xref_name': None, 'xre...  Rattus norvegicus   \n",
              "\n",
              "              pref_name  score  species_group_flag target_chembl_id  \\\n",
              "0  Cytochrome P450 19A1   20.0               False       CHEMBL1978   \n",
              "1  Cytochrome P450 19A1   20.0               False       CHEMBL3859   \n",
              "\n",
              "                                   target_components     target_type  tax_id  \n",
              "0  [{'accession': 'P11511', 'component_descriptio...  SINGLE PROTEIN    9606  \n",
              "1  [{'accession': 'P22443', 'component_descriptio...  SINGLE PROTEIN   10116  "
            ]
          },
          "execution_count": 3,
          "metadata": {},
          "output_type": "execute_result"
        }
      ],
      "source": [
        "# Target search for coronavirus\n",
        "target = new_client.target\n",
        "target_query = target.search('aromatase')\n",
        "targets = pd.DataFrame.from_dict(target_query)\n",
        "targets"
      ]
    },
    {
      "cell_type": "markdown",
      "metadata": {
        "id": "Y5OPfEALjAfZ"
      },
      "source": [
        "### **Select and retrieve bioactivity data for *SARS coronavirus 3C-like proteinase* (first entry)**"
      ]
    },
    {
      "cell_type": "markdown",
      "metadata": {
        "id": "gSQ3aroOgML7"
      },
      "source": [
        "We will assign the fifth entry (which corresponds to the target protein, *coronavirus 3C-like proteinase*) to the ***selected_target*** variable"
      ]
    },
    {
      "cell_type": "code",
      "execution_count": 5,
      "metadata": {
        "colab": {
          "base_uri": "https://localhost:8080/",
          "height": 35
        },
        "id": "StrcHMVLha7u",
        "outputId": "a558535b-c66a-42ce-8604-3cf34dbff90b"
      },
      "outputs": [
        {
          "data": {
            "text/plain": [
              "'CHEMBL3859'"
            ]
          },
          "execution_count": 5,
          "metadata": {},
          "output_type": "execute_result"
        }
      ],
      "source": [
        "selected_target = targets.target_chembl_id[1]\n",
        "selected_target"
      ]
    },
    {
      "cell_type": "markdown",
      "metadata": {
        "id": "GWd2DRalgjzB"
      },
      "source": [
        "Here, we will retrieve only bioactivity data for *coronavirus 3C-like proteinase* (CHEMBL3927) that are reported as IC$_{50}$ values in nM (nanomolar) unit."
      ]
    },
    {
      "cell_type": "code",
      "execution_count": 6,
      "metadata": {
        "id": "LeFbV_CsSP8D"
      },
      "outputs": [],
      "source": [
        "activity = new_client.activity\n",
        "res = activity.filter(target_chembl_id=selected_target).filter(standard_type=\"IC50\")"
      ]
    },
    {
      "cell_type": "code",
      "execution_count": 7,
      "metadata": {
        "id": "RC4T-NEmSWV-"
      },
      "outputs": [],
      "source": [
        "df = pd.DataFrame.from_dict(res)"
      ]
    },
    {
      "cell_type": "code",
      "execution_count": 8,
      "metadata": {
        "colab": {
          "base_uri": "https://localhost:8080/",
          "height": 265
        },
        "id": "s9iUAXFdSkoM",
        "outputId": "c9b681cc-97ab-40fb-a735-5e2b39612f8c"
      },
      "outputs": [
        {
          "data": {
            "text/html": [
              "<div>\n",
              "<style scoped>\n",
              "    .dataframe tbody tr th:only-of-type {\n",
              "        vertical-align: middle;\n",
              "    }\n",
              "\n",
              "    .dataframe tbody tr th {\n",
              "        vertical-align: top;\n",
              "    }\n",
              "\n",
              "    .dataframe thead th {\n",
              "        text-align: right;\n",
              "    }\n",
              "</style>\n",
              "<table border=\"1\" class=\"dataframe\">\n",
              "  <thead>\n",
              "    <tr style=\"text-align: right;\">\n",
              "      <th></th>\n",
              "      <th>action_type</th>\n",
              "      <th>activity_comment</th>\n",
              "      <th>activity_id</th>\n",
              "      <th>activity_properties</th>\n",
              "      <th>assay_chembl_id</th>\n",
              "      <th>assay_description</th>\n",
              "      <th>assay_type</th>\n",
              "      <th>assay_variant_accession</th>\n",
              "      <th>assay_variant_mutation</th>\n",
              "      <th>bao_endpoint</th>\n",
              "      <th>...</th>\n",
              "      <th>target_organism</th>\n",
              "      <th>target_pref_name</th>\n",
              "      <th>target_tax_id</th>\n",
              "      <th>text_value</th>\n",
              "      <th>toid</th>\n",
              "      <th>type</th>\n",
              "      <th>units</th>\n",
              "      <th>uo_units</th>\n",
              "      <th>upper_value</th>\n",
              "      <th>value</th>\n",
              "    </tr>\n",
              "  </thead>\n",
              "  <tbody>\n",
              "    <tr>\n",
              "      <th>0</th>\n",
              "      <td>None</td>\n",
              "      <td>None</td>\n",
              "      <td>530035</td>\n",
              "      <td>[]</td>\n",
              "      <td>CHEMBL661155</td>\n",
              "      <td>Inhibition of rat ovarian Cytochrome P450 19A</td>\n",
              "      <td>B</td>\n",
              "      <td>None</td>\n",
              "      <td>None</td>\n",
              "      <td>BAO_0000190</td>\n",
              "      <td>...</td>\n",
              "      <td>Rattus norvegicus</td>\n",
              "      <td>Cytochrome P450 19A1</td>\n",
              "      <td>10116</td>\n",
              "      <td>None</td>\n",
              "      <td>None</td>\n",
              "      <td>IC50</td>\n",
              "      <td>uM</td>\n",
              "      <td>UO_0000065</td>\n",
              "      <td>None</td>\n",
              "      <td>34.0</td>\n",
              "    </tr>\n",
              "    <tr>\n",
              "      <th>1</th>\n",
              "      <td>None</td>\n",
              "      <td>None</td>\n",
              "      <td>539290</td>\n",
              "      <td>[]</td>\n",
              "      <td>CHEMBL649360</td>\n",
              "      <td>In vitro inhibition of rat ovarian aromatase c...</td>\n",
              "      <td>B</td>\n",
              "      <td>None</td>\n",
              "      <td>None</td>\n",
              "      <td>BAO_0000190</td>\n",
              "      <td>...</td>\n",
              "      <td>Rattus norvegicus</td>\n",
              "      <td>Cytochrome P450 19A1</td>\n",
              "      <td>10116</td>\n",
              "      <td>None</td>\n",
              "      <td>None</td>\n",
              "      <td>IC50</td>\n",
              "      <td>uM</td>\n",
              "      <td>UO_0000065</td>\n",
              "      <td>None</td>\n",
              "      <td>2.0</td>\n",
              "    </tr>\n",
              "    <tr>\n",
              "      <th>2</th>\n",
              "      <td>None</td>\n",
              "      <td>None</td>\n",
              "      <td>553204</td>\n",
              "      <td>[]</td>\n",
              "      <td>CHEMBL649360</td>\n",
              "      <td>In vitro inhibition of rat ovarian aromatase c...</td>\n",
              "      <td>B</td>\n",
              "      <td>None</td>\n",
              "      <td>None</td>\n",
              "      <td>BAO_0000190</td>\n",
              "      <td>...</td>\n",
              "      <td>Rattus norvegicus</td>\n",
              "      <td>Cytochrome P450 19A1</td>\n",
              "      <td>10116</td>\n",
              "      <td>None</td>\n",
              "      <td>None</td>\n",
              "      <td>IC50</td>\n",
              "      <td>uM</td>\n",
              "      <td>UO_0000065</td>\n",
              "      <td>None</td>\n",
              "      <td>8.0</td>\n",
              "    </tr>\n",
              "  </tbody>\n",
              "</table>\n",
              "<p>3 rows × 46 columns</p>\n",
              "</div>"
            ],
            "text/plain": [
              "  action_type activity_comment  activity_id activity_properties  \\\n",
              "0        None             None       530035                  []   \n",
              "1        None             None       539290                  []   \n",
              "2        None             None       553204                  []   \n",
              "\n",
              "  assay_chembl_id                                  assay_description  \\\n",
              "0    CHEMBL661155      Inhibition of rat ovarian Cytochrome P450 19A   \n",
              "1    CHEMBL649360  In vitro inhibition of rat ovarian aromatase c...   \n",
              "2    CHEMBL649360  In vitro inhibition of rat ovarian aromatase c...   \n",
              "\n",
              "  assay_type assay_variant_accession assay_variant_mutation bao_endpoint  ...  \\\n",
              "0          B                    None                   None  BAO_0000190  ...   \n",
              "1          B                    None                   None  BAO_0000190  ...   \n",
              "2          B                    None                   None  BAO_0000190  ...   \n",
              "\n",
              "     target_organism      target_pref_name target_tax_id text_value  toid  \\\n",
              "0  Rattus norvegicus  Cytochrome P450 19A1         10116       None  None   \n",
              "1  Rattus norvegicus  Cytochrome P450 19A1         10116       None  None   \n",
              "2  Rattus norvegicus  Cytochrome P450 19A1         10116       None  None   \n",
              "\n",
              "   type units    uo_units upper_value value  \n",
              "0  IC50    uM  UO_0000065        None  34.0  \n",
              "1  IC50    uM  UO_0000065        None   2.0  \n",
              "2  IC50    uM  UO_0000065        None   8.0  \n",
              "\n",
              "[3 rows x 46 columns]"
            ]
          },
          "execution_count": 8,
          "metadata": {},
          "output_type": "execute_result"
        }
      ],
      "source": [
        "df.head(3)"
      ]
    },
    {
      "cell_type": "code",
      "execution_count": 9,
      "metadata": {
        "colab": {
          "base_uri": "https://localhost:8080/",
          "height": 35
        },
        "id": "oNtBv36dYhxy",
        "outputId": "db6a7832-55eb-484c-b56c-98cdcd5944dd"
      },
      "outputs": [
        {
          "data": {
            "text/plain": [
              "array(['IC50'], dtype=object)"
            ]
          },
          "execution_count": 9,
          "metadata": {},
          "output_type": "execute_result"
        }
      ],
      "source": [
        "df.standard_type.unique()"
      ]
    },
    {
      "cell_type": "markdown",
      "metadata": {
        "id": "fQ78N26Fg15T"
      },
      "source": [
        "Finally we will save the resulting bioactivity data to a CSV file **bioactivity_data.csv**."
      ]
    },
    {
      "cell_type": "code",
      "execution_count": 10,
      "metadata": {
        "id": "ZvUUEIVxTOH1"
      },
      "outputs": [],
      "source": [
        "df.to_csv('bioactivity_data.csv', index=False)"
      ]
    },
    {
      "cell_type": "markdown",
      "metadata": {
        "id": "BOrSrTGjOWU7"
      },
      "source": [
        "## **Copying files to Local Computer**"
      ]
    },
    {
      "cell_type": "code",
      "execution_count": 11,
      "metadata": {
        "id": "tew-UtUWIS__"
      },
      "outputs": [],
      "source": [
        "! mkdir \"C:\\Users\\880pr\\OneDrive\\Desktop\\drug discovery\\data\""
      ]
    },
    {
      "cell_type": "code",
      "execution_count": 12,
      "metadata": {
        "id": "YDMBpK2XJ_rJ"
      },
      "outputs": [],
      "source": [
        "! cp bioactivity_data.csv \"C:\\Users\\880pr\\OneDrive\\Desktop\\drug discovery\\data\""
      ]
    },
    {
      "cell_type": "code",
      "execution_count": 13,
      "metadata": {
        "colab": {
          "base_uri": "https://localhost:8080/",
          "height": 52
        },
        "id": "iRIr1QiEJtuw",
        "outputId": "e400f4d9-3ce7-4822-8837-33eb2499c1c1"
      },
      "outputs": [
        {
          "name": "stdout",
          "output_type": "stream",
          "text": [
            "total 8\n",
            "-rw-r--r-- 1 880pr 197609 5950 Oct 26 09:45 bioactivity_data.csv\n"
          ]
        }
      ],
      "source": [
        "! ls -l \"C:\\Users\\880pr\\OneDrive\\Desktop\\drug discovery\\data\""
      ]
    },
    {
      "cell_type": "markdown",
      "metadata": {
        "id": "z9NwrYJni8CH"
      },
      "source": [
        "Let's see the CSV files that we have so far."
      ]
    },
    {
      "cell_type": "code",
      "execution_count": 14,
      "metadata": {
        "colab": {
          "base_uri": "https://localhost:8080/",
          "height": 35
        },
        "id": "FO3cZC5vnCht",
        "outputId": "f5e07f1f-7a24-4d8e-ca52-e5e36e4daea1"
      },
      "outputs": [
        {
          "name": "stdout",
          "output_type": "stream",
          "text": [
            "Module 1 - Data Collection and Preprocessing.ipynb\n",
            "Module 2 - Data Analysis.ipynb\n",
            "Module 3 - Dataset Preparation.ipynb\n",
            "Module 4 - Model Building.ipynb\n",
            "Module 5 - Comparisions.ipynb\n",
            "bioactivity_data.csv\n",
            "data\n"
          ]
        }
      ],
      "source": [
        "! ls"
      ]
    },
    {
      "cell_type": "markdown",
      "metadata": {
        "id": "7UAasSu5jAeB"
      },
      "source": [
        "Taking a glimpse of the **bioactivity_data.csv** file that we've just created."
      ]
    },
    {
      "cell_type": "code",
      "execution_count": 15,
      "metadata": {
        "colab": {
          "base_uri": "https://localhost:8080/",
          "height": 211
        },
        "id": "jwEJjx5b5gAn",
        "outputId": "69dce8c6-565d-4537-952e-b01da9f2fd83"
      },
      "outputs": [
        {
          "name": "stdout",
          "output_type": "stream",
          "text": [
            "action_type,activity_comment,activity_id,activity_properties,assay_chembl_id,assay_description,assay_type,assay_variant_accession,assay_variant_mutation,bao_endpoint,bao_format,bao_label,canonical_smiles,data_validity_comment,data_validity_description,document_chembl_id,document_journal,document_year,ligand_efficiency,molecule_chembl_id,molecule_pref_name,parent_molecule_chembl_id,pchembl_value,potential_duplicate,qudt_units,record_id,relation,src_id,standard_flag,standard_relation,standard_text_value,standard_type,standard_units,standard_upper_value,standard_value,target_chembl_id,target_organism,target_pref_name,target_tax_id,text_value,toid,type,units,uo_units,upper_value,value\n",
            ",,530035,[],CHEMBL661155,Inhibition of rat ovarian Cytochrome P450 19A,B,,,BAO_0000190,BAO_0000357,single protein format,CCC1(c2ccc(N)cc2)CCC(=O)NC1=O,,,CHEMBL1125863,J Med Chem,1991,\"{'bei': '19.24', 'le': '0.36', 'lle': '3.12', 'sei': '6.19'}\",CHEMBL488,AMINOGLUTETHIMIDE,CHEMBL488,4.47,0,http://www.openphacts.org/units/Nanomolar,165425,=,1,1,=,,IC50,nM,,34000.0,CHEMBL3859,Rattus norvegicus,Cytochrome P450 19A1,10116,,,IC50,uM,UO_0000065,,34.0\n",
            ",,539290,[],CHEMBL649360,In vitro inhibition of rat ovarian aromatase cytochrome P450 19A1,B,,,BAO_0000190,BAO_0000357,single protein format,O=C1c2cccc(O)c2CCC1Cc1ccncc1,,,CHEMBL1125863,J Med Chem,1991,\"{'bei': '22.50', 'le': '0.41', 'lle': '2.92', 'sei': '11.35'}\",CHEMBL93828,,CHEMBL93828,5.70,0,http://www.openphacts.org/units/Nanomolar,165436,=,1,1,=,,IC50,nM,,2000.0,CHEMBL3859,Rattus norvegicus,Cytochrome P450 19A1,10116,,,IC50,uM,UO_0000065,,2.0\n",
            ",,553204,[],CHEMBL649360,In vitro inhibition of rat ovarian aromatase cytochrome P450 19A1,B,,,BAO_0000190,BAO_0000357,single protein format,COc1cccc2c1CCC(Cc1ccncc1)C2=O,,,CHEMBL1125863,J Med Chem,1991,\"{'bei': '19.07', 'le': '0.35', 'lle': '2.02', 'sei': '13.01'}\",CHEMBL90427,,CHEMBL90427,5.10,0,http://www.openphacts.org/units/Nanomolar,165437,=,1,1,=,,IC50,nM,,8000.0,CHEMBL3859,Rattus norvegicus,Cytochrome P450 19A1,10116,,,IC50,uM,UO_0000065,,8.0\n",
            ",,615833,[],CHEMBL664329,Binding affinity for Cytochrome P450 19A1,B,,,BAO_0000190,BAO_0000357,single protein format,Cn1nnc2ccc(C(c3ccc(Cl)cc3)n3cncn3)cc21,,,CHEMBL1124997,J Med Chem,1990,\"{'bei': '26.24', 'le': '0.51', 'lle': '5.67', 'sei': '13.88'}\",CHEMBL100749,rac-VOROZOLE,CHEMBL100749,8.52,0,http://www.openphacts.org/units/Nanomolar,185858,=,1,1,=,,IC50,nM,,3.0,CHEMBL3859,Rattus norvegicus,Cytochrome P450 19A1,10116,,,IC50,nM,UO_0000065,,3.0\n",
            ",,789248,[],CHEMBL664334,In vitro inhibition of rat ovarian microsomal Cytochrome P450 19A1,B,,,BAO_0000190,BAO_0000019,assay format,CCC1(c2ccc(N)cc2)CCC(=O)NC1=O,,,CHEMBL1128393,J Med Chem,1995,\"{'bei': '22.42', 'le': '0.42', 'lle': '3.86', 'sei': '7.21'}\",CHEMBL488,AMINOGLUTETHIMIDE,CHEMBL488,5.21,0,http://www.openphacts.org/units/Nanomolar,115040,=,1,1,=,,IC50,nM,,6200.0,CHEMBL3859,Rattus norvegicus,Cytochrome P450 19A1,10116,,,IC50,uM,UO_0000065,,6.2\n",
            ",,819891,[],CHEMBL664334,In vitro inhibition of rat ovarian microsomal Cytochrome P450 19A1,B,,,BAO_0000190,BAO_0000019,assay format,COc1ccc2c(c1)C1C(CC2)C1c1ccncc1,,,CHEMBL1128393,J Med Chem,1995,\"{'bei': '26.17', 'le': '0.47', 'lle': '3.05', 'sei': '29.73'}\",CHEMBL294361,,CHEMBL294361,6.58,0,http://www.openphacts.org/units/Nanomolar,115039,=,1,1,=,,IC50,nM,,265.0,CHEMBL3859,Rattus norvegicus,Cytochrome P450 19A1,10116,,,IC50,uM,UO_0000065,,0.265\n",
            ",,15742388,[],CHEMBL3624597,Inhibition of rat ovarian aromatase,B,,,BAO_0000190,BAO_0000357,single protein format,O=C1/C(=C/c2ccncc2)CCc2ccccc21,,,CHEMBL3621095,Eur J Med Chem,2015,\"{'bei': '22.68', 'le': '0.40', 'lle': '2.05', 'sei': '17.81'}\",CHEMBL90585,,CHEMBL90585,5.34,0,http://www.openphacts.org/units/Nanomolar,2505718,=,1,1,=,,IC50,nM,,4600.0,CHEMBL3859,Rattus norvegicus,Cytochrome P450 19A1,10116,,,IC50,uM,UO_0000065,,4.6\n",
            ",,15742389,[],CHEMBL3624597,Inhibition of rat ovarian aromatase,B,,,BAO_0000190,BAO_0000357,single protein format,O=C1/C(=C/c2c[nH]cn2)CCc2ccccc21,,,CHEMBL3621095,Eur J Med Chem,2015,\"{'bei': '30.19', 'le': '0.54', 'lle': '4.15', 'sei': '14.80'}\",CHEMBL168434,,CHEMBL168434,6.77,0,http://www.openphacts.org/units/Nanomolar,2505719,=,1,1,=,,IC50,nM,,170.0,CHEMBL3859,Rattus norvegicus,Cytochrome P450 19A1,10116,,,IC50,uM,UO_0000065,,0.17\n",
            ",,15742390,[],CHEMBL3624597,Inhibition of rat ovarian aromatase,B,,,BAO_0000190,BAO_0000357,single protein format,O=C1/C(=C\\c2c[nH]cn2)CCc2ccccc21,,,CHEMBL3621095,Eur J Med Chem,2015,\"{'bei': '29.36', 'le': '0.53', 'lle': '3.97', 'sei': '14.39'}\",CHEMBL169251,,CHEMBL169251,6.58,0,http://www.openphacts.org/units/Nanomolar,2505720,=,1,1,=,,IC50,nM,,260.0,CHEMBL3859,Rattus norvegicus,Cytochrome P450 19A1,10116,,,IC50,uM,UO_0000065,,0.26\n"
          ]
        }
      ],
      "source": [
        "! head bioactivity_data.csv"
      ]
    },
    {
      "cell_type": "markdown",
      "metadata": {
        "id": "_GXMpFNUOn_8"
      },
      "source": [
        "## **Handling missing data**\n",
        "If any compounds has missing value for the **standard_value** column then drop it"
      ]
    },
    {
      "cell_type": "code",
      "execution_count": 16,
      "metadata": {
        "colab": {
          "base_uri": "https://localhost:8080/",
          "height": 782
        },
        "id": "hkVOdk6ZR396",
        "outputId": "fc08d57e-f832-4cb0-90f2-dc7394b0209d"
      },
      "outputs": [
        {
          "data": {
            "text/html": [
              "<div>\n",
              "<style scoped>\n",
              "    .dataframe tbody tr th:only-of-type {\n",
              "        vertical-align: middle;\n",
              "    }\n",
              "\n",
              "    .dataframe tbody tr th {\n",
              "        vertical-align: top;\n",
              "    }\n",
              "\n",
              "    .dataframe thead th {\n",
              "        text-align: right;\n",
              "    }\n",
              "</style>\n",
              "<table border=\"1\" class=\"dataframe\">\n",
              "  <thead>\n",
              "    <tr style=\"text-align: right;\">\n",
              "      <th></th>\n",
              "      <th>action_type</th>\n",
              "      <th>activity_comment</th>\n",
              "      <th>activity_id</th>\n",
              "      <th>activity_properties</th>\n",
              "      <th>assay_chembl_id</th>\n",
              "      <th>assay_description</th>\n",
              "      <th>assay_type</th>\n",
              "      <th>assay_variant_accession</th>\n",
              "      <th>assay_variant_mutation</th>\n",
              "      <th>bao_endpoint</th>\n",
              "      <th>...</th>\n",
              "      <th>target_organism</th>\n",
              "      <th>target_pref_name</th>\n",
              "      <th>target_tax_id</th>\n",
              "      <th>text_value</th>\n",
              "      <th>toid</th>\n",
              "      <th>type</th>\n",
              "      <th>units</th>\n",
              "      <th>uo_units</th>\n",
              "      <th>upper_value</th>\n",
              "      <th>value</th>\n",
              "    </tr>\n",
              "  </thead>\n",
              "  <tbody>\n",
              "    <tr>\n",
              "      <th>0</th>\n",
              "      <td>None</td>\n",
              "      <td>None</td>\n",
              "      <td>530035</td>\n",
              "      <td>[]</td>\n",
              "      <td>CHEMBL661155</td>\n",
              "      <td>Inhibition of rat ovarian Cytochrome P450 19A</td>\n",
              "      <td>B</td>\n",
              "      <td>None</td>\n",
              "      <td>None</td>\n",
              "      <td>BAO_0000190</td>\n",
              "      <td>...</td>\n",
              "      <td>Rattus norvegicus</td>\n",
              "      <td>Cytochrome P450 19A1</td>\n",
              "      <td>10116</td>\n",
              "      <td>None</td>\n",
              "      <td>None</td>\n",
              "      <td>IC50</td>\n",
              "      <td>uM</td>\n",
              "      <td>UO_0000065</td>\n",
              "      <td>None</td>\n",
              "      <td>34.0</td>\n",
              "    </tr>\n",
              "    <tr>\n",
              "      <th>1</th>\n",
              "      <td>None</td>\n",
              "      <td>None</td>\n",
              "      <td>539290</td>\n",
              "      <td>[]</td>\n",
              "      <td>CHEMBL649360</td>\n",
              "      <td>In vitro inhibition of rat ovarian aromatase c...</td>\n",
              "      <td>B</td>\n",
              "      <td>None</td>\n",
              "      <td>None</td>\n",
              "      <td>BAO_0000190</td>\n",
              "      <td>...</td>\n",
              "      <td>Rattus norvegicus</td>\n",
              "      <td>Cytochrome P450 19A1</td>\n",
              "      <td>10116</td>\n",
              "      <td>None</td>\n",
              "      <td>None</td>\n",
              "      <td>IC50</td>\n",
              "      <td>uM</td>\n",
              "      <td>UO_0000065</td>\n",
              "      <td>None</td>\n",
              "      <td>2.0</td>\n",
              "    </tr>\n",
              "    <tr>\n",
              "      <th>2</th>\n",
              "      <td>None</td>\n",
              "      <td>None</td>\n",
              "      <td>553204</td>\n",
              "      <td>[]</td>\n",
              "      <td>CHEMBL649360</td>\n",
              "      <td>In vitro inhibition of rat ovarian aromatase c...</td>\n",
              "      <td>B</td>\n",
              "      <td>None</td>\n",
              "      <td>None</td>\n",
              "      <td>BAO_0000190</td>\n",
              "      <td>...</td>\n",
              "      <td>Rattus norvegicus</td>\n",
              "      <td>Cytochrome P450 19A1</td>\n",
              "      <td>10116</td>\n",
              "      <td>None</td>\n",
              "      <td>None</td>\n",
              "      <td>IC50</td>\n",
              "      <td>uM</td>\n",
              "      <td>UO_0000065</td>\n",
              "      <td>None</td>\n",
              "      <td>8.0</td>\n",
              "    </tr>\n",
              "    <tr>\n",
              "      <th>3</th>\n",
              "      <td>None</td>\n",
              "      <td>None</td>\n",
              "      <td>615833</td>\n",
              "      <td>[]</td>\n",
              "      <td>CHEMBL664329</td>\n",
              "      <td>Binding affinity for Cytochrome P450 19A1</td>\n",
              "      <td>B</td>\n",
              "      <td>None</td>\n",
              "      <td>None</td>\n",
              "      <td>BAO_0000190</td>\n",
              "      <td>...</td>\n",
              "      <td>Rattus norvegicus</td>\n",
              "      <td>Cytochrome P450 19A1</td>\n",
              "      <td>10116</td>\n",
              "      <td>None</td>\n",
              "      <td>None</td>\n",
              "      <td>IC50</td>\n",
              "      <td>nM</td>\n",
              "      <td>UO_0000065</td>\n",
              "      <td>None</td>\n",
              "      <td>3.0</td>\n",
              "    </tr>\n",
              "    <tr>\n",
              "      <th>4</th>\n",
              "      <td>None</td>\n",
              "      <td>None</td>\n",
              "      <td>789248</td>\n",
              "      <td>[]</td>\n",
              "      <td>CHEMBL664334</td>\n",
              "      <td>In vitro inhibition of rat ovarian microsomal ...</td>\n",
              "      <td>B</td>\n",
              "      <td>None</td>\n",
              "      <td>None</td>\n",
              "      <td>BAO_0000190</td>\n",
              "      <td>...</td>\n",
              "      <td>Rattus norvegicus</td>\n",
              "      <td>Cytochrome P450 19A1</td>\n",
              "      <td>10116</td>\n",
              "      <td>None</td>\n",
              "      <td>None</td>\n",
              "      <td>IC50</td>\n",
              "      <td>uM</td>\n",
              "      <td>UO_0000065</td>\n",
              "      <td>None</td>\n",
              "      <td>6.2</td>\n",
              "    </tr>\n",
              "    <tr>\n",
              "      <th>5</th>\n",
              "      <td>None</td>\n",
              "      <td>None</td>\n",
              "      <td>819891</td>\n",
              "      <td>[]</td>\n",
              "      <td>CHEMBL664334</td>\n",
              "      <td>In vitro inhibition of rat ovarian microsomal ...</td>\n",
              "      <td>B</td>\n",
              "      <td>None</td>\n",
              "      <td>None</td>\n",
              "      <td>BAO_0000190</td>\n",
              "      <td>...</td>\n",
              "      <td>Rattus norvegicus</td>\n",
              "      <td>Cytochrome P450 19A1</td>\n",
              "      <td>10116</td>\n",
              "      <td>None</td>\n",
              "      <td>None</td>\n",
              "      <td>IC50</td>\n",
              "      <td>uM</td>\n",
              "      <td>UO_0000065</td>\n",
              "      <td>None</td>\n",
              "      <td>0.265</td>\n",
              "    </tr>\n",
              "    <tr>\n",
              "      <th>6</th>\n",
              "      <td>None</td>\n",
              "      <td>None</td>\n",
              "      <td>15742388</td>\n",
              "      <td>[]</td>\n",
              "      <td>CHEMBL3624597</td>\n",
              "      <td>Inhibition of rat ovarian aromatase</td>\n",
              "      <td>B</td>\n",
              "      <td>None</td>\n",
              "      <td>None</td>\n",
              "      <td>BAO_0000190</td>\n",
              "      <td>...</td>\n",
              "      <td>Rattus norvegicus</td>\n",
              "      <td>Cytochrome P450 19A1</td>\n",
              "      <td>10116</td>\n",
              "      <td>None</td>\n",
              "      <td>None</td>\n",
              "      <td>IC50</td>\n",
              "      <td>uM</td>\n",
              "      <td>UO_0000065</td>\n",
              "      <td>None</td>\n",
              "      <td>4.6</td>\n",
              "    </tr>\n",
              "    <tr>\n",
              "      <th>7</th>\n",
              "      <td>None</td>\n",
              "      <td>None</td>\n",
              "      <td>15742389</td>\n",
              "      <td>[]</td>\n",
              "      <td>CHEMBL3624597</td>\n",
              "      <td>Inhibition of rat ovarian aromatase</td>\n",
              "      <td>B</td>\n",
              "      <td>None</td>\n",
              "      <td>None</td>\n",
              "      <td>BAO_0000190</td>\n",
              "      <td>...</td>\n",
              "      <td>Rattus norvegicus</td>\n",
              "      <td>Cytochrome P450 19A1</td>\n",
              "      <td>10116</td>\n",
              "      <td>None</td>\n",
              "      <td>None</td>\n",
              "      <td>IC50</td>\n",
              "      <td>uM</td>\n",
              "      <td>UO_0000065</td>\n",
              "      <td>None</td>\n",
              "      <td>0.17</td>\n",
              "    </tr>\n",
              "    <tr>\n",
              "      <th>8</th>\n",
              "      <td>None</td>\n",
              "      <td>None</td>\n",
              "      <td>15742390</td>\n",
              "      <td>[]</td>\n",
              "      <td>CHEMBL3624597</td>\n",
              "      <td>Inhibition of rat ovarian aromatase</td>\n",
              "      <td>B</td>\n",
              "      <td>None</td>\n",
              "      <td>None</td>\n",
              "      <td>BAO_0000190</td>\n",
              "      <td>...</td>\n",
              "      <td>Rattus norvegicus</td>\n",
              "      <td>Cytochrome P450 19A1</td>\n",
              "      <td>10116</td>\n",
              "      <td>None</td>\n",
              "      <td>None</td>\n",
              "      <td>IC50</td>\n",
              "      <td>uM</td>\n",
              "      <td>UO_0000065</td>\n",
              "      <td>None</td>\n",
              "      <td>0.26</td>\n",
              "    </tr>\n",
              "    <tr>\n",
              "      <th>9</th>\n",
              "      <td>None</td>\n",
              "      <td>None</td>\n",
              "      <td>16433981</td>\n",
              "      <td>[]</td>\n",
              "      <td>CHEMBL3755852</td>\n",
              "      <td>Inhibition of aromatase in denucleated ovarian...</td>\n",
              "      <td>B</td>\n",
              "      <td>None</td>\n",
              "      <td>None</td>\n",
              "      <td>BAO_0000190</td>\n",
              "      <td>...</td>\n",
              "      <td>Rattus norvegicus</td>\n",
              "      <td>Cytochrome P450 19A1</td>\n",
              "      <td>10116</td>\n",
              "      <td>None</td>\n",
              "      <td>None</td>\n",
              "      <td>IC50</td>\n",
              "      <td>uM</td>\n",
              "      <td>UO_0000065</td>\n",
              "      <td>None</td>\n",
              "      <td>0.28</td>\n",
              "    </tr>\n",
              "    <tr>\n",
              "      <th>10</th>\n",
              "      <td>None</td>\n",
              "      <td>None</td>\n",
              "      <td>16433982</td>\n",
              "      <td>[]</td>\n",
              "      <td>CHEMBL3755852</td>\n",
              "      <td>Inhibition of aromatase in denucleated ovarian...</td>\n",
              "      <td>B</td>\n",
              "      <td>None</td>\n",
              "      <td>None</td>\n",
              "      <td>BAO_0000190</td>\n",
              "      <td>...</td>\n",
              "      <td>Rattus norvegicus</td>\n",
              "      <td>Cytochrome P450 19A1</td>\n",
              "      <td>10116</td>\n",
              "      <td>None</td>\n",
              "      <td>None</td>\n",
              "      <td>IC50</td>\n",
              "      <td>uM</td>\n",
              "      <td>UO_0000065</td>\n",
              "      <td>None</td>\n",
              "      <td>0.25</td>\n",
              "    </tr>\n",
              "  </tbody>\n",
              "</table>\n",
              "<p>11 rows × 46 columns</p>\n",
              "</div>"
            ],
            "text/plain": [
              "   action_type activity_comment  activity_id activity_properties  \\\n",
              "0         None             None       530035                  []   \n",
              "1         None             None       539290                  []   \n",
              "2         None             None       553204                  []   \n",
              "3         None             None       615833                  []   \n",
              "4         None             None       789248                  []   \n",
              "5         None             None       819891                  []   \n",
              "6         None             None     15742388                  []   \n",
              "7         None             None     15742389                  []   \n",
              "8         None             None     15742390                  []   \n",
              "9         None             None     16433981                  []   \n",
              "10        None             None     16433982                  []   \n",
              "\n",
              "   assay_chembl_id                                  assay_description  \\\n",
              "0     CHEMBL661155      Inhibition of rat ovarian Cytochrome P450 19A   \n",
              "1     CHEMBL649360  In vitro inhibition of rat ovarian aromatase c...   \n",
              "2     CHEMBL649360  In vitro inhibition of rat ovarian aromatase c...   \n",
              "3     CHEMBL664329          Binding affinity for Cytochrome P450 19A1   \n",
              "4     CHEMBL664334  In vitro inhibition of rat ovarian microsomal ...   \n",
              "5     CHEMBL664334  In vitro inhibition of rat ovarian microsomal ...   \n",
              "6    CHEMBL3624597                Inhibition of rat ovarian aromatase   \n",
              "7    CHEMBL3624597                Inhibition of rat ovarian aromatase   \n",
              "8    CHEMBL3624597                Inhibition of rat ovarian aromatase   \n",
              "9    CHEMBL3755852  Inhibition of aromatase in denucleated ovarian...   \n",
              "10   CHEMBL3755852  Inhibition of aromatase in denucleated ovarian...   \n",
              "\n",
              "   assay_type assay_variant_accession assay_variant_mutation bao_endpoint  \\\n",
              "0           B                    None                   None  BAO_0000190   \n",
              "1           B                    None                   None  BAO_0000190   \n",
              "2           B                    None                   None  BAO_0000190   \n",
              "3           B                    None                   None  BAO_0000190   \n",
              "4           B                    None                   None  BAO_0000190   \n",
              "5           B                    None                   None  BAO_0000190   \n",
              "6           B                    None                   None  BAO_0000190   \n",
              "7           B                    None                   None  BAO_0000190   \n",
              "8           B                    None                   None  BAO_0000190   \n",
              "9           B                    None                   None  BAO_0000190   \n",
              "10          B                    None                   None  BAO_0000190   \n",
              "\n",
              "    ...    target_organism      target_pref_name target_tax_id text_value  \\\n",
              "0   ...  Rattus norvegicus  Cytochrome P450 19A1         10116       None   \n",
              "1   ...  Rattus norvegicus  Cytochrome P450 19A1         10116       None   \n",
              "2   ...  Rattus norvegicus  Cytochrome P450 19A1         10116       None   \n",
              "3   ...  Rattus norvegicus  Cytochrome P450 19A1         10116       None   \n",
              "4   ...  Rattus norvegicus  Cytochrome P450 19A1         10116       None   \n",
              "5   ...  Rattus norvegicus  Cytochrome P450 19A1         10116       None   \n",
              "6   ...  Rattus norvegicus  Cytochrome P450 19A1         10116       None   \n",
              "7   ...  Rattus norvegicus  Cytochrome P450 19A1         10116       None   \n",
              "8   ...  Rattus norvegicus  Cytochrome P450 19A1         10116       None   \n",
              "9   ...  Rattus norvegicus  Cytochrome P450 19A1         10116       None   \n",
              "10  ...  Rattus norvegicus  Cytochrome P450 19A1         10116       None   \n",
              "\n",
              "    toid  type units    uo_units upper_value  value  \n",
              "0   None  IC50    uM  UO_0000065        None   34.0  \n",
              "1   None  IC50    uM  UO_0000065        None    2.0  \n",
              "2   None  IC50    uM  UO_0000065        None    8.0  \n",
              "3   None  IC50    nM  UO_0000065        None    3.0  \n",
              "4   None  IC50    uM  UO_0000065        None    6.2  \n",
              "5   None  IC50    uM  UO_0000065        None  0.265  \n",
              "6   None  IC50    uM  UO_0000065        None    4.6  \n",
              "7   None  IC50    uM  UO_0000065        None   0.17  \n",
              "8   None  IC50    uM  UO_0000065        None   0.26  \n",
              "9   None  IC50    uM  UO_0000065        None   0.28  \n",
              "10  None  IC50    uM  UO_0000065        None   0.25  \n",
              "\n",
              "[11 rows x 46 columns]"
            ]
          },
          "execution_count": 16,
          "metadata": {},
          "output_type": "execute_result"
        }
      ],
      "source": [
        "df2 = df[df.standard_value.notna()]\n",
        "df2"
      ]
    },
    {
      "cell_type": "markdown",
      "metadata": {
        "id": "Y-qNsUlmjS25"
      },
      "source": [
        "Apparently, for this dataset there is no missing data. But we can use the above code cell for bioactivity data of other target protein."
      ]
    },
    {
      "cell_type": "markdown",
      "metadata": {
        "id": "5H4sSFAWhV9B"
      },
      "source": [
        "## **Data pre-processing of the bioactivity data**"
      ]
    },
    {
      "cell_type": "markdown",
      "metadata": {
        "id": "tO22XVlzhkXR"
      },
      "source": [
        "### **Labeling compounds as either being active, inactive or intermediate**\n",
        "The bioactivity data is in the IC50 unit. Compounds having values of less than 1000 nM will be considered to be **active** while those greater than 10,000 nM will be considered to be **inactive**. As for those values in between 1,000 and 10,000 nM will be referred to as **intermediate**."
      ]
    },
    {
      "cell_type": "code",
      "execution_count": 17,
      "metadata": {
        "id": "1E8rz7oMOd-5"
      },
      "outputs": [],
      "source": [
        "bioactivity_class = []\n",
        "for i in df2.standard_value:\n",
        "  if float(i) >= 10000:\n",
        "    bioactivity_class.append(\"inactive\")\n",
        "  elif float(i) <= 1000:\n",
        "    bioactivity_class.append(\"active\")\n",
        "  else:\n",
        "    bioactivity_class.append(\"intermediate\")"
      ]
    },
    {
      "cell_type": "markdown",
      "metadata": {
        "id": "PFsmb2N9hnTB"
      },
      "source": [
        "### **Iterate the *molecule_chembl_id* to a list**"
      ]
    },
    {
      "cell_type": "code",
      "execution_count": 18,
      "metadata": {
        "id": "DMJng9xnVnMM"
      },
      "outputs": [],
      "source": [
        "mol_cid = []\n",
        "for i in df2.molecule_chembl_id:\n",
        "  mol_cid.append(i)"
      ]
    },
    {
      "cell_type": "markdown",
      "metadata": {
        "id": "YRieJc9dhuVZ"
      },
      "source": [
        "### **Iterate *canonical_smiles* to a list**"
      ]
    },
    {
      "cell_type": "code",
      "execution_count": 19,
      "metadata": {
        "id": "AT8qUBk1eVmj"
      },
      "outputs": [],
      "source": [
        "canonical_smiles = []\n",
        "for i in df2.canonical_smiles:\n",
        "  canonical_smiles.append(i)"
      ]
    },
    {
      "cell_type": "markdown",
      "metadata": {
        "id": "DZFugUXxhwjE"
      },
      "source": [
        "### **Iterate *standard_value* to a list**"
      ]
    },
    {
      "cell_type": "code",
      "execution_count": 20,
      "metadata": {
        "id": "ZaPt-FjEZNBe"
      },
      "outputs": [],
      "source": [
        "standard_value = []\n",
        "for i in df2.standard_value:\n",
        "  standard_value.append(i)"
      ]
    },
    {
      "cell_type": "markdown",
      "metadata": {
        "id": "Nv2dzid_hzKd"
      },
      "source": [
        "### **Combine the 4 lists into a dataframe**"
      ]
    },
    {
      "cell_type": "code",
      "execution_count": 21,
      "metadata": {
        "id": "TWlYO4I3Wrh-"
      },
      "outputs": [],
      "source": [
        "data_tuples = list(zip(mol_cid, canonical_smiles, bioactivity_class, standard_value))\n",
        "df3 = pd.DataFrame( data_tuples,  columns=['molecule_chembl_id', 'canonical_smiles', 'bioactivity_class', 'standard_value'])"
      ]
    },
    {
      "cell_type": "code",
      "execution_count": 22,
      "metadata": {
        "colab": {
          "base_uri": "https://localhost:8080/",
          "height": 415
        },
        "id": "Li64nUiZQ-y2",
        "outputId": "a1d4cdb5-922d-4573-9f8b-abcb7ef72a58"
      },
      "outputs": [
        {
          "data": {
            "text/html": [
              "<div>\n",
              "<style scoped>\n",
              "    .dataframe tbody tr th:only-of-type {\n",
              "        vertical-align: middle;\n",
              "    }\n",
              "\n",
              "    .dataframe tbody tr th {\n",
              "        vertical-align: top;\n",
              "    }\n",
              "\n",
              "    .dataframe thead th {\n",
              "        text-align: right;\n",
              "    }\n",
              "</style>\n",
              "<table border=\"1\" class=\"dataframe\">\n",
              "  <thead>\n",
              "    <tr style=\"text-align: right;\">\n",
              "      <th></th>\n",
              "      <th>molecule_chembl_id</th>\n",
              "      <th>canonical_smiles</th>\n",
              "      <th>bioactivity_class</th>\n",
              "      <th>standard_value</th>\n",
              "    </tr>\n",
              "  </thead>\n",
              "  <tbody>\n",
              "    <tr>\n",
              "      <th>0</th>\n",
              "      <td>CHEMBL488</td>\n",
              "      <td>CCC1(c2ccc(N)cc2)CCC(=O)NC1=O</td>\n",
              "      <td>inactive</td>\n",
              "      <td>34000.0</td>\n",
              "    </tr>\n",
              "    <tr>\n",
              "      <th>1</th>\n",
              "      <td>CHEMBL93828</td>\n",
              "      <td>O=C1c2cccc(O)c2CCC1Cc1ccncc1</td>\n",
              "      <td>intermediate</td>\n",
              "      <td>2000.0</td>\n",
              "    </tr>\n",
              "    <tr>\n",
              "      <th>2</th>\n",
              "      <td>CHEMBL90427</td>\n",
              "      <td>COc1cccc2c1CCC(Cc1ccncc1)C2=O</td>\n",
              "      <td>intermediate</td>\n",
              "      <td>8000.0</td>\n",
              "    </tr>\n",
              "    <tr>\n",
              "      <th>3</th>\n",
              "      <td>CHEMBL100749</td>\n",
              "      <td>Cn1nnc2ccc(C(c3ccc(Cl)cc3)n3cncn3)cc21</td>\n",
              "      <td>active</td>\n",
              "      <td>3.0</td>\n",
              "    </tr>\n",
              "    <tr>\n",
              "      <th>4</th>\n",
              "      <td>CHEMBL488</td>\n",
              "      <td>CCC1(c2ccc(N)cc2)CCC(=O)NC1=O</td>\n",
              "      <td>intermediate</td>\n",
              "      <td>6200.0</td>\n",
              "    </tr>\n",
              "    <tr>\n",
              "      <th>5</th>\n",
              "      <td>CHEMBL294361</td>\n",
              "      <td>COc1ccc2c(c1)C1C(CC2)C1c1ccncc1</td>\n",
              "      <td>active</td>\n",
              "      <td>265.0</td>\n",
              "    </tr>\n",
              "    <tr>\n",
              "      <th>6</th>\n",
              "      <td>CHEMBL90585</td>\n",
              "      <td>O=C1/C(=C/c2ccncc2)CCc2ccccc21</td>\n",
              "      <td>intermediate</td>\n",
              "      <td>4600.0</td>\n",
              "    </tr>\n",
              "    <tr>\n",
              "      <th>7</th>\n",
              "      <td>CHEMBL168434</td>\n",
              "      <td>O=C1/C(=C/c2c[nH]cn2)CCc2ccccc21</td>\n",
              "      <td>active</td>\n",
              "      <td>170.0</td>\n",
              "    </tr>\n",
              "    <tr>\n",
              "      <th>8</th>\n",
              "      <td>CHEMBL169251</td>\n",
              "      <td>O=C1/C(=C\\c2c[nH]cn2)CCc2ccccc21</td>\n",
              "      <td>active</td>\n",
              "      <td>260.0</td>\n",
              "    </tr>\n",
              "    <tr>\n",
              "      <th>9</th>\n",
              "      <td>CHEMBL3753401</td>\n",
              "      <td>C[C@@H]1OC(=O)C[C@H]2[C@@H]3CCC4=CC(=O)CC[C@]4...</td>\n",
              "      <td>active</td>\n",
              "      <td>280.0</td>\n",
              "    </tr>\n",
              "    <tr>\n",
              "      <th>10</th>\n",
              "      <td>CHEMBL3754484</td>\n",
              "      <td>C[C@@H]1OC(=O)C[C@H]2[C@@H]3C=C[C@H]4C[C@@H](O...</td>\n",
              "      <td>active</td>\n",
              "      <td>250.0</td>\n",
              "    </tr>\n",
              "  </tbody>\n",
              "</table>\n",
              "</div>"
            ],
            "text/plain": [
              "   molecule_chembl_id                                   canonical_smiles  \\\n",
              "0           CHEMBL488                      CCC1(c2ccc(N)cc2)CCC(=O)NC1=O   \n",
              "1         CHEMBL93828                       O=C1c2cccc(O)c2CCC1Cc1ccncc1   \n",
              "2         CHEMBL90427                      COc1cccc2c1CCC(Cc1ccncc1)C2=O   \n",
              "3        CHEMBL100749             Cn1nnc2ccc(C(c3ccc(Cl)cc3)n3cncn3)cc21   \n",
              "4           CHEMBL488                      CCC1(c2ccc(N)cc2)CCC(=O)NC1=O   \n",
              "5        CHEMBL294361                    COc1ccc2c(c1)C1C(CC2)C1c1ccncc1   \n",
              "6         CHEMBL90585                     O=C1/C(=C/c2ccncc2)CCc2ccccc21   \n",
              "7        CHEMBL168434                   O=C1/C(=C/c2c[nH]cn2)CCc2ccccc21   \n",
              "8        CHEMBL169251                   O=C1/C(=C\\c2c[nH]cn2)CCc2ccccc21   \n",
              "9       CHEMBL3753401  C[C@@H]1OC(=O)C[C@H]2[C@@H]3CCC4=CC(=O)CC[C@]4...   \n",
              "10      CHEMBL3754484  C[C@@H]1OC(=O)C[C@H]2[C@@H]3C=C[C@H]4C[C@@H](O...   \n",
              "\n",
              "   bioactivity_class standard_value  \n",
              "0           inactive        34000.0  \n",
              "1       intermediate         2000.0  \n",
              "2       intermediate         8000.0  \n",
              "3             active            3.0  \n",
              "4       intermediate         6200.0  \n",
              "5             active          265.0  \n",
              "6       intermediate         4600.0  \n",
              "7             active          170.0  \n",
              "8             active          260.0  \n",
              "9             active          280.0  \n",
              "10            active          250.0  "
            ]
          },
          "execution_count": 22,
          "metadata": {},
          "output_type": "execute_result"
        }
      ],
      "source": [
        "df3"
      ]
    },
    {
      "cell_type": "markdown",
      "metadata": {
        "id": "vE0Vvo6ic3MI"
      },
      "source": [
        "### **Alternative method**"
      ]
    },
    {
      "cell_type": "code",
      "execution_count": null,
      "metadata": {
        "colab": {
          "base_uri": "https://localhost:8080/",
          "height": 415
        },
        "id": "VICiiCtqc2ne",
        "outputId": "0b39e703-b724-4f02-d86c-ea07791cdeed"
      },
      "outputs": [
        {
          "data": {
            "text/html": [
              "<div>\n",
              "<style scoped>\n",
              "    .dataframe tbody tr th:only-of-type {\n",
              "        vertical-align: middle;\n",
              "    }\n",
              "\n",
              "    .dataframe tbody tr th {\n",
              "        vertical-align: top;\n",
              "    }\n",
              "\n",
              "    .dataframe thead th {\n",
              "        text-align: right;\n",
              "    }\n",
              "</style>\n",
              "<table border=\"1\" class=\"dataframe\">\n",
              "  <thead>\n",
              "    <tr style=\"text-align: right;\">\n",
              "      <th></th>\n",
              "      <th>molecule_chembl_id</th>\n",
              "      <th>canonical_smiles</th>\n",
              "      <th>standard_value</th>\n",
              "    </tr>\n",
              "  </thead>\n",
              "  <tbody>\n",
              "    <tr>\n",
              "      <th>0</th>\n",
              "      <td>CHEMBL187579</td>\n",
              "      <td>Cc1noc(C)c1CN1C(=O)C(=O)c2cc(C#N)ccc21</td>\n",
              "      <td>7200.0</td>\n",
              "    </tr>\n",
              "    <tr>\n",
              "      <th>1</th>\n",
              "      <td>CHEMBL188487</td>\n",
              "      <td>O=C1C(=O)N(Cc2ccc(F)cc2Cl)c2ccc(I)cc21</td>\n",
              "      <td>9400.0</td>\n",
              "    </tr>\n",
              "    <tr>\n",
              "      <th>2</th>\n",
              "      <td>CHEMBL185698</td>\n",
              "      <td>O=C1C(=O)N(CC2COc3ccccc3O2)c2ccc(I)cc21</td>\n",
              "      <td>13500.0</td>\n",
              "    </tr>\n",
              "    <tr>\n",
              "      <th>3</th>\n",
              "      <td>CHEMBL426082</td>\n",
              "      <td>O=C1C(=O)N(Cc2cc3ccccc3s2)c2ccccc21</td>\n",
              "      <td>13110.0</td>\n",
              "    </tr>\n",
              "    <tr>\n",
              "      <th>4</th>\n",
              "      <td>CHEMBL187717</td>\n",
              "      <td>O=C1C(=O)N(Cc2cc3ccccc3s2)c2c1cccc2[N+](=O)[O-]</td>\n",
              "      <td>2000.0</td>\n",
              "    </tr>\n",
              "    <tr>\n",
              "      <th>...</th>\n",
              "      <td>...</td>\n",
              "      <td>...</td>\n",
              "      <td>...</td>\n",
              "    </tr>\n",
              "    <tr>\n",
              "      <th>128</th>\n",
              "      <td>CHEMBL2146517</td>\n",
              "      <td>COC(=O)[C@@]1(C)CCCc2c1ccc1c2C(=O)C(=O)c2c(C)c...</td>\n",
              "      <td>10600.0</td>\n",
              "    </tr>\n",
              "    <tr>\n",
              "      <th>129</th>\n",
              "      <td>CHEMBL187460</td>\n",
              "      <td>C[C@H]1COC2=C1C(=O)C(=O)c1c2ccc2c1CCCC2(C)C</td>\n",
              "      <td>10100.0</td>\n",
              "    </tr>\n",
              "    <tr>\n",
              "      <th>130</th>\n",
              "      <td>CHEMBL363535</td>\n",
              "      <td>Cc1coc2c1C(=O)C(=O)c1c-2ccc2c(C)cccc12</td>\n",
              "      <td>11500.0</td>\n",
              "    </tr>\n",
              "    <tr>\n",
              "      <th>131</th>\n",
              "      <td>CHEMBL227075</td>\n",
              "      <td>Cc1cccc2c3c(ccc12)C1=C(C(=O)C3=O)[C@@H](C)CO1</td>\n",
              "      <td>10700.0</td>\n",
              "    </tr>\n",
              "    <tr>\n",
              "      <th>132</th>\n",
              "      <td>CHEMBL45830</td>\n",
              "      <td>CC(C)C1=Cc2ccc3c(c2C(=O)C1=O)CCCC3(C)C</td>\n",
              "      <td>78900.0</td>\n",
              "    </tr>\n",
              "  </tbody>\n",
              "</table>\n",
              "<p>133 rows × 3 columns</p>\n",
              "</div>"
            ],
            "text/plain": [
              "    molecule_chembl_id  ... standard_value\n",
              "0         CHEMBL187579  ...         7200.0\n",
              "1         CHEMBL188487  ...         9400.0\n",
              "2         CHEMBL185698  ...        13500.0\n",
              "3         CHEMBL426082  ...        13110.0\n",
              "4         CHEMBL187717  ...         2000.0\n",
              "..                 ...  ...            ...\n",
              "128      CHEMBL2146517  ...        10600.0\n",
              "129       CHEMBL187460  ...        10100.0\n",
              "130       CHEMBL363535  ...        11500.0\n",
              "131       CHEMBL227075  ...        10700.0\n",
              "132        CHEMBL45830  ...        78900.0\n",
              "\n",
              "[133 rows x 3 columns]"
            ]
          },
          "execution_count": 37,
          "metadata": {
            "tags": []
          },
          "output_type": "execute_result"
        }
      ],
      "source": [
        "selection = ['molecule_chembl_id', 'canonical_smiles', 'standard_value']\n",
        "df3 = df2[selection]\n",
        "df3"
      ]
    },
    {
      "cell_type": "code",
      "execution_count": null,
      "metadata": {
        "colab": {
          "base_uri": "https://localhost:8080/",
          "height": 415
        },
        "id": "d8nV77oWdbq1",
        "outputId": "2df59721-3567-48bc-a732-a0b09fa8aa12"
      },
      "outputs": [
        {
          "data": {
            "text/html": [
              "<div>\n",
              "<style scoped>\n",
              "    .dataframe tbody tr th:only-of-type {\n",
              "        vertical-align: middle;\n",
              "    }\n",
              "\n",
              "    .dataframe tbody tr th {\n",
              "        vertical-align: top;\n",
              "    }\n",
              "\n",
              "    .dataframe thead th {\n",
              "        text-align: right;\n",
              "    }\n",
              "</style>\n",
              "<table border=\"1\" class=\"dataframe\">\n",
              "  <thead>\n",
              "    <tr style=\"text-align: right;\">\n",
              "      <th></th>\n",
              "      <th>molecule_chembl_id</th>\n",
              "      <th>canonical_smiles</th>\n",
              "      <th>bioactivity_class</th>\n",
              "      <th>standard_value</th>\n",
              "      <th>0</th>\n",
              "    </tr>\n",
              "  </thead>\n",
              "  <tbody>\n",
              "    <tr>\n",
              "      <th>0</th>\n",
              "      <td>CHEMBL187579</td>\n",
              "      <td>Cc1noc(C)c1CN1C(=O)C(=O)c2cc(C#N)ccc21</td>\n",
              "      <td>intermediate</td>\n",
              "      <td>7200.0</td>\n",
              "      <td>intermediate</td>\n",
              "    </tr>\n",
              "    <tr>\n",
              "      <th>1</th>\n",
              "      <td>CHEMBL188487</td>\n",
              "      <td>O=C1C(=O)N(Cc2ccc(F)cc2Cl)c2ccc(I)cc21</td>\n",
              "      <td>intermediate</td>\n",
              "      <td>9400.0</td>\n",
              "      <td>intermediate</td>\n",
              "    </tr>\n",
              "    <tr>\n",
              "      <th>2</th>\n",
              "      <td>CHEMBL185698</td>\n",
              "      <td>O=C1C(=O)N(CC2COc3ccccc3O2)c2ccc(I)cc21</td>\n",
              "      <td>inactive</td>\n",
              "      <td>13500.0</td>\n",
              "      <td>inactive</td>\n",
              "    </tr>\n",
              "    <tr>\n",
              "      <th>3</th>\n",
              "      <td>CHEMBL426082</td>\n",
              "      <td>O=C1C(=O)N(Cc2cc3ccccc3s2)c2ccccc21</td>\n",
              "      <td>inactive</td>\n",
              "      <td>13110.0</td>\n",
              "      <td>inactive</td>\n",
              "    </tr>\n",
              "    <tr>\n",
              "      <th>4</th>\n",
              "      <td>CHEMBL187717</td>\n",
              "      <td>O=C1C(=O)N(Cc2cc3ccccc3s2)c2c1cccc2[N+](=O)[O-]</td>\n",
              "      <td>intermediate</td>\n",
              "      <td>2000.0</td>\n",
              "      <td>intermediate</td>\n",
              "    </tr>\n",
              "    <tr>\n",
              "      <th>...</th>\n",
              "      <td>...</td>\n",
              "      <td>...</td>\n",
              "      <td>...</td>\n",
              "      <td>...</td>\n",
              "      <td>...</td>\n",
              "    </tr>\n",
              "    <tr>\n",
              "      <th>128</th>\n",
              "      <td>CHEMBL2146517</td>\n",
              "      <td>COC(=O)[C@@]1(C)CCCc2c1ccc1c2C(=O)C(=O)c2c(C)c...</td>\n",
              "      <td>inactive</td>\n",
              "      <td>10600.0</td>\n",
              "      <td>inactive</td>\n",
              "    </tr>\n",
              "    <tr>\n",
              "      <th>129</th>\n",
              "      <td>CHEMBL187460</td>\n",
              "      <td>C[C@H]1COC2=C1C(=O)C(=O)c1c2ccc2c1CCCC2(C)C</td>\n",
              "      <td>inactive</td>\n",
              "      <td>10100.0</td>\n",
              "      <td>inactive</td>\n",
              "    </tr>\n",
              "    <tr>\n",
              "      <th>130</th>\n",
              "      <td>CHEMBL363535</td>\n",
              "      <td>Cc1coc2c1C(=O)C(=O)c1c-2ccc2c(C)cccc12</td>\n",
              "      <td>inactive</td>\n",
              "      <td>11500.0</td>\n",
              "      <td>inactive</td>\n",
              "    </tr>\n",
              "    <tr>\n",
              "      <th>131</th>\n",
              "      <td>CHEMBL227075</td>\n",
              "      <td>Cc1cccc2c3c(ccc12)C1=C(C(=O)C3=O)[C@@H](C)CO1</td>\n",
              "      <td>inactive</td>\n",
              "      <td>10700.0</td>\n",
              "      <td>inactive</td>\n",
              "    </tr>\n",
              "    <tr>\n",
              "      <th>132</th>\n",
              "      <td>CHEMBL45830</td>\n",
              "      <td>CC(C)C1=Cc2ccc3c(c2C(=O)C1=O)CCCC3(C)C</td>\n",
              "      <td>inactive</td>\n",
              "      <td>78900.0</td>\n",
              "      <td>inactive</td>\n",
              "    </tr>\n",
              "  </tbody>\n",
              "</table>\n",
              "<p>133 rows × 5 columns</p>\n",
              "</div>"
            ],
            "text/plain": [
              "    molecule_chembl_id  ...             0\n",
              "0         CHEMBL187579  ...  intermediate\n",
              "1         CHEMBL188487  ...  intermediate\n",
              "2         CHEMBL185698  ...      inactive\n",
              "3         CHEMBL426082  ...      inactive\n",
              "4         CHEMBL187717  ...  intermediate\n",
              "..                 ...  ...           ...\n",
              "128      CHEMBL2146517  ...      inactive\n",
              "129       CHEMBL187460  ...      inactive\n",
              "130       CHEMBL363535  ...      inactive\n",
              "131       CHEMBL227075  ...      inactive\n",
              "132        CHEMBL45830  ...      inactive\n",
              "\n",
              "[133 rows x 5 columns]"
            ]
          },
          "execution_count": 36,
          "metadata": {
            "tags": []
          },
          "output_type": "execute_result"
        }
      ],
      "source": [
        "pd.concat([df3,pd.Series(bioactivity_class)], axis=1)"
      ]
    },
    {
      "cell_type": "markdown",
      "metadata": {
        "id": "9tlgyexWh7YJ"
      },
      "source": [
        "Saves dataframe to CSV file"
      ]
    },
    {
      "cell_type": "code",
      "execution_count": null,
      "metadata": {
        "id": "nSNia7suXstR"
      },
      "outputs": [],
      "source": [
        "df3.to_csv('bioactivity_preprocessed_data.csv', index=False)"
      ]
    },
    {
      "cell_type": "code",
      "execution_count": null,
      "metadata": {
        "colab": {
          "base_uri": "https://localhost:8080/",
          "height": 104
        },
        "id": "UuZf5-MEd-H5",
        "outputId": "19e008f4-267b-490b-9b2c-e5f88a47a48a"
      },
      "outputs": [
        {
          "name": "stdout",
          "output_type": "stream",
          "text": [
            "total 92\n",
            "-rw-r--r-- 1 root root 70010 Apr 29 17:07 bioactivity_data.csv\n",
            "-rw-r--r-- 1 root root  9326 Apr 29 17:24 bioactivity_preprocessed_data.csv\n",
            "drwx------ 4 root root  4096 Apr 29 17:08 gdrive\n",
            "drwxr-xr-x 1 root root  4096 Apr  3 16:24 sample_data\n"
          ]
        }
      ],
      "source": [
        "! ls -l"
      ]
    },
    {
      "cell_type": "markdown",
      "metadata": {
        "id": "_C7rqJKTePhV"
      },
      "source": [
        "Let's copy to the Google Drive"
      ]
    },
    {
      "cell_type": "code",
      "execution_count": null,
      "metadata": {
        "id": "ZfyvJcENeHDB"
      },
      "outputs": [],
      "source": [
        "! cp bioactivity_preprocessed_data.csv \"/content/gdrive/My Drive/Colab Notebooks/data\""
      ]
    },
    {
      "cell_type": "code",
      "execution_count": null,
      "metadata": {
        "colab": {
          "base_uri": "https://localhost:8080/",
          "height": 35
        },
        "id": "7PU7yU9leLV5",
        "outputId": "c07ddf6b-e372-4807-bc0f-7f0b2944a0cf"
      },
      "outputs": [
        {
          "name": "stdout",
          "output_type": "stream",
          "text": [
            "bioactivity_data.csv  bioactivity_preprocessed_data.csv\n"
          ]
        }
      ],
      "source": [
        "! ls \"/content/gdrive/My Drive/Colab Notebooks/data\""
      ]
    },
    {
      "cell_type": "markdown",
      "metadata": {
        "id": "ZywB5K_Dlawb"
      },
      "source": [
        "---"
      ]
    }
  ],
  "metadata": {
    "colab": {
      "name": "CDD-ML-Part-1-bioactivity-data.ipynb",
      "provenance": []
    },
    "kernelspec": {
      "display_name": "Python 3",
      "name": "python3"
    },
    "language_info": {
      "codemirror_mode": {
        "name": "ipython",
        "version": 3
      },
      "file_extension": ".py",
      "mimetype": "text/x-python",
      "name": "python",
      "nbconvert_exporter": "python",
      "pygments_lexer": "ipython3",
      "version": "3.12.2"
    }
  },
  "nbformat": 4,
  "nbformat_minor": 0
}
